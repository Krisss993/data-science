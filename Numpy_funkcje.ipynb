{
  "nbformat": 4,
  "nbformat_minor": 0,
  "metadata": {
    "colab": {
      "provenance": [],
      "authorship_tag": "ABX9TyMURulLug3WCsTh7nHDIBI9",
      "include_colab_link": true
    },
    "kernelspec": {
      "name": "python3",
      "display_name": "Python 3"
    },
    "language_info": {
      "name": "python"
    }
  },
  "cells": [
    {
      "cell_type": "markdown",
      "metadata": {
        "id": "view-in-github",
        "colab_type": "text"
      },
      "source": [
        "<a href=\"https://colab.research.google.com/github/Krisss993/data-science/blob/numpy/Numpy_funkcje.ipynb\" target=\"_parent\"><img src=\"https://colab.research.google.com/assets/colab-badge.svg\" alt=\"Open In Colab\"/></a>"
      ]
    },
    {
      "cell_type": "markdown",
      "source": [],
      "metadata": {
        "id": "EJyeesfImgcr"
      }
    },
    {
      "cell_type": "code",
      "source": [
        "import numpy as np"
      ],
      "metadata": {
        "id": "Gd8Fd9E6mok6"
      },
      "execution_count": 4,
      "outputs": []
    },
    {
      "cell_type": "markdown",
      "source": [
        "Sprawdza, czy tablice  A  oraz  B  są równe pod względem elementów (element-wise) z ustalonym poziomem tolerancji."
      ],
      "metadata": {
        "id": "JzbcW8lcmtcP"
      }
    },
    {
      "cell_type": "code",
      "source": [
        "A = np.array([0.4, 0.5, 0.3])\n",
        "B = np.array([0.39999999, 0.5000001, 0.3])\n",
        "\n",
        "np.allclose(A,B,0.000001)"
      ],
      "metadata": {
        "colab": {
          "base_uri": "https://localhost:8080/"
        },
        "id": "GFRjZGQGmk82",
        "outputId": "ac1e9e7c-867a-491d-bea5-57e07d731552"
      },
      "execution_count": 5,
      "outputs": [
        {
          "output_type": "execute_result",
          "data": {
            "text/plain": [
              "True"
            ]
          },
          "metadata": {},
          "execution_count": 5
        }
      ]
    },
    {
      "cell_type": "markdown",
      "source": [
        "Tworzy tablice wypełnione 0, 1, 255 ... o podanych wymiarach"
      ],
      "metadata": {
        "id": "RnPYRodGtoNm"
      }
    },
    {
      "cell_type": "code",
      "source": [
        "A = np.zeros((4,4), dtype='int')\n",
        "ones = np.ones((5,5))\n",
        "rgb = np.full(fill_value=255., shape=(10,10), dtype='float')"
      ],
      "metadata": {
        "id": "1xQul5p9mlyT"
      },
      "execution_count": 6,
      "outputs": []
    },
    {
      "cell_type": "markdown",
      "source": [
        "Tworzy jednowymiarową tablicę o podanych parametrach, następnie przekształca ją w dwuwymiarową o podanym kształcie"
      ],
      "metadata": {
        "id": "SSjffRb_vBZW"
      }
    },
    {
      "cell_type": "code",
      "source": [
        "arr = np.arange(start=10, stop=100, step=1, dtype='int')\n",
        "np.ndarray.reshape(arr, (9,10))"
      ],
      "metadata": {
        "id": "HtzKKgGXt-xU"
      },
      "execution_count": null,
      "outputs": []
    },
    {
      "cell_type": "markdown",
      "source": [
        "Tworzy macierz jednostkową o wymiarze 6x6"
      ],
      "metadata": {
        "id": "NPXkaQFmvVka"
      }
    },
    {
      "cell_type": "code",
      "source": [
        "e = np.eye(N=6)\n"
      ],
      "metadata": {
        "id": "8nSFD1jCvJ-m"
      },
      "execution_count": null,
      "outputs": []
    },
    {
      "cell_type": "markdown",
      "source": [
        "Ręczne stworzenie macierzy jednostkowej o wymiarach 6x6\n"
      ],
      "metadata": {
        "id": "mLhoayq8vccq"
      }
    },
    {
      "cell_type": "code",
      "source": [
        "zero = np.zeros((6,6))\n",
        "for i in range(zero.shape[0]):\n",
        "  for j in range(zero.shape[1]):\n",
        "    if i==j:\n",
        "      zero[i,j] = 1"
      ],
      "metadata": {
        "colab": {
          "base_uri": "https://localhost:8080/"
        },
        "id": "1KS2aiHEvgXE",
        "outputId": "01e27e9c-a47a-4933-9923-ee12ecaaed0e"
      },
      "execution_count": 12,
      "outputs": [
        {
          "output_type": "execute_result",
          "data": {
            "text/plain": [
              "array([[1., 0., 0., 0., 0., 0.],\n",
              "       [0., 1., 0., 0., 0., 0.],\n",
              "       [0., 0., 1., 0., 0., 0.],\n",
              "       [0., 0., 0., 1., 0., 0.],\n",
              "       [0., 0., 0., 0., 1., 0.],\n",
              "       [0., 0., 0., 0., 0., 1.]])"
            ]
          },
          "metadata": {},
          "execution_count": 12
        }
      ]
    },
    {
      "cell_type": "markdown",
      "source": [
        " Tworzy jednowymiarową tablicę składającą się z 30 pseudolosowo wygenerowanych wartości z rozkładu jednostajnego nad przedziałem  [0,1) o wymiarach 3x10"
      ],
      "metadata": {
        "id": "aGoAIxa_xuwO"
      }
    },
    {
      "cell_type": "code",
      "source": [
        "rand = np.random.random(size=(3,10))"
      ],
      "metadata": {
        "id": "mQIdzjquvlo0"
      },
      "execution_count": 14,
      "outputs": []
    },
    {
      "cell_type": "markdown",
      "source": [
        "Tworzy dwuwymiarową tablicę o kształcie (10, 4) wartości pseudolosowo wygenerowanych ze standardowego rozkładu normalego  N(0,1) ."
      ],
      "metadata": {
        "id": "jurEUEclyZXm"
      }
    },
    {
      "cell_type": "code",
      "source": [
        "rand = np.random.randn(10,4)"
      ],
      "metadata": {
        "id": "-yxG_tJZx2id"
      },
      "execution_count": 15,
      "outputs": []
    },
    {
      "cell_type": "markdown",
      "source": [
        "N(100,5)"
      ],
      "metadata": {
        "id": "jcLihVlfznk1"
      }
    },
    {
      "cell_type": "code",
      "source": [
        "rand_100_5 = 100 + rand * np.sqrt(5)"
      ],
      "metadata": {
        "id": "mq-B5tueycX9"
      },
      "execution_count": 17,
      "outputs": []
    },
    {
      "cell_type": "markdown",
      "source": [
        "Tworzy 6-elementowy wektor wartości od 1 do 49 włącznie."
      ],
      "metadata": {
        "id": "mZjOaUhl6dI4"
      }
    },
    {
      "cell_type": "code",
      "source": [
        "np.random.randint(low=1, high=50, size=6)"
      ],
      "metadata": {
        "id": "ZWjSKofm6ciU"
      },
      "execution_count": null,
      "outputs": []
    },
    {
      "cell_type": "markdown",
      "source": [
        "Iterując po tablicy numpy  A  element po elemencie printuje każdy element tablicy do konsoli."
      ],
      "metadata": {
        "id": "88QcfAHt1ta5"
      }
    },
    {
      "cell_type": "code",
      "source": [
        "A = np.array([[1, 4, 3],\n",
        "              [5, 2, 6]])\n",
        "for i in np.nditer(A):\n",
        "  print(i)"
      ],
      "metadata": {
        "colab": {
          "base_uri": "https://localhost:8080/"
        },
        "id": "vjMaeTU7zpI9",
        "outputId": "9926467a-23fc-4718-a8ed-328e04ca7d61"
      },
      "execution_count": 18,
      "outputs": [
        {
          "output_type": "stream",
          "name": "stdout",
          "text": [
            "1\n",
            "4\n",
            "3\n",
            "5\n",
            "2\n",
            "6\n"
          ]
        }
      ]
    },
    {
      "cell_type": "markdown",
      "source": [
        "Tworzy jednowymiarową tablicę numpy (wektor) składający się z 11 równo rozmieszczonych punktów z przedziału  [0,1]."
      ],
      "metadata": {
        "id": "NCgyPXlA1xo_"
      }
    },
    {
      "cell_type": "code",
      "source": [
        "np.linspace(start=0, stop=1, num=11)"
      ],
      "metadata": {
        "colab": {
          "base_uri": "https://localhost:8080/"
        },
        "id": "uOhStIOF2AUu",
        "outputId": "c0089651-9c95-403f-a633-5651b69dda38"
      },
      "execution_count": 19,
      "outputs": [
        {
          "output_type": "execute_result",
          "data": {
            "text/plain": [
              "array([0. , 0.1, 0.2, 0.3, 0.4, 0.5, 0.6, 0.7, 0.8, 0.9, 1. ])"
            ]
          },
          "metadata": {},
          "execution_count": 19
        }
      ]
    },
    {
      "cell_type": "markdown",
      "source": [
        "Tworzy macierz o przekątnej głównej o liczbach od 0 do 5"
      ],
      "metadata": {
        "id": "Nl8AfFUb6uBV"
      }
    },
    {
      "cell_type": "code",
      "source": [
        "np.diag(np.arange(6))"
      ],
      "metadata": {
        "colab": {
          "base_uri": "https://localhost:8080/"
        },
        "id": "Ux2DSMat2B7V",
        "outputId": "71c6f743-9957-4a0f-9d86-8b6ed3835e6f"
      },
      "execution_count": 21,
      "outputs": [
        {
          "output_type": "execute_result",
          "data": {
            "text/plain": [
              "array([[0, 0, 0, 0, 0, 0],\n",
              "       [0, 1, 0, 0, 0, 0],\n",
              "       [0, 0, 2, 0, 0, 0],\n",
              "       [0, 0, 0, 3, 0, 0],\n",
              "       [0, 0, 0, 0, 4, 0],\n",
              "       [0, 0, 0, 0, 0, 5]])"
            ]
          },
          "metadata": {},
          "execution_count": 21
        }
      ]
    },
    {
      "cell_type": "code",
      "source": [],
      "metadata": {
        "id": "fxSUCHni66eO"
      },
      "execution_count": null,
      "outputs": []
    }
  ]
}